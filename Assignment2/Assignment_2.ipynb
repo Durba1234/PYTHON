{
 "cells": [
  {
   "cell_type": "code",
   "execution_count": 8,
   "metadata": {},
   "outputs": [
    {
     "name": "stdout",
     "output_type": "stream",
     "text": [
      "sum of the elements in mylist: 21\n",
      "subtraction of the elements in mylist: 720\n"
     ]
    }
   ],
   "source": [
    "def myreduce(func,mylist):\n",
    "    a=mylist[0]\n",
    "    for i in range(1,len(mylist)):\n",
    "        a=func(a,mylist[i])\n",
    "    return a\n",
    "def add(a1,a2):\n",
    "   return a1+a2\n",
    "def product(a1,a2):\n",
    "    return a1*a2\n",
    "a=[4,5,6,1,2,3]\n",
    "print(\"sum of the elements in mylist:\",myreduce(add,a))\n",
    "print(\"subtraction of the elements in mylist:\",myreduce(product,a))\n",
    "\n"
   ]
  },
  {
   "cell_type": "code",
   "execution_count": 19,
   "metadata": {},
   "outputs": [],
   "source": [
    "def myfilter(func,mylist):\n",
    "    result=[]\n",
    "    for i in mylist:\n",
    "        if func(i):\n",
    "            result.append(i)\n",
    "        return result"
   ]
  },
  {
   "cell_type": "code",
   "execution_count": 31,
   "metadata": {},
   "outputs": [
    {
     "data": {
      "text/plain": [
       "[1]"
      ]
     },
     "execution_count": 31,
     "metadata": {},
     "output_type": "execute_result"
    }
   ],
   "source": [
    "\n",
    "myfilter(lambda x: x%5==1, [1,2,3,4,5,6,10])"
   ]
  },
  {
   "cell_type": "code",
   "execution_count": 34,
   "metadata": {},
   "outputs": [
    {
     "name": "stdout",
     "output_type": "stream",
     "text": [
      "ACADGILD:=['A', 'C', 'A', 'D', 'G', 'I', 'L', 'D']\n"
     ]
    }
   ],
   "source": [
    "s=\"ACADGILD\"\n",
    "list=[alphabet for alphabet  in s]\n",
    "print(\"ACADGILD:=\" +str(list))"
   ]
  },
  {
   "cell_type": "code",
   "execution_count": 35,
   "metadata": {},
   "outputs": [
    {
     "name": "stdout",
     "output_type": "stream",
     "text": [
      "['x', 'xx', 'xxx', 'xxxx', 'y', 'yy', 'yyy', 'yyyy', 'z', 'zz', 'zzz', 'zzzz']\n"
     ]
    }
   ],
   "source": [
    "mylist=['x','y','z']\n",
    "result=[item*num for item in mylist for num in range(1,5)]\n",
    "print(result)"
   ]
  },
  {
   "cell_type": "code",
   "execution_count": 39,
   "metadata": {},
   "outputs": [
    {
     "name": "stdout",
     "output_type": "stream",
     "text": [
      "['x', 'y', 'z', 'xx', 'yy', 'zz', 'xxx', 'yyy', 'zzz', 'xxxx', 'yyyy', 'zzzz']\n"
     ]
    }
   ],
   "source": [
    "mylist=['x','y','z']\n",
    "result=[item*num for num in range(1,5) for item in mylist]\n",
    "print(result)"
   ]
  },
  {
   "cell_type": "code",
   "execution_count": 41,
   "metadata": {},
   "outputs": [
    {
     "name": "stdout",
     "output_type": "stream",
     "text": [
      "[[2], [3], [4], [3], [4], [5], [4], [5], [6]]\n"
     ]
    }
   ],
   "source": [
    "mylist=[2,3,4]\n",
    "result=[[item+num]for item in mylist for num in range(0,3)]\n",
    "print(result)"
   ]
  },
  {
   "cell_type": "code",
   "execution_count": 43,
   "metadata": {},
   "outputs": [
    {
     "name": "stdout",
     "output_type": "stream",
     "text": [
      "[[2, 3, 4, 5], [3, 4, 5, 6], [4, 5, 6, 7], [5, 6, 7, 8]]\n"
     ]
    }
   ],
   "source": [
    "mylist=[2,3,4,5]\n",
    "result=[[item+num for item in mylist ]for num in range(0,4)]\n",
    "print(result)"
   ]
  },
  {
   "cell_type": "code",
   "execution_count": 45,
   "metadata": {},
   "outputs": [
    {
     "name": "stdout",
     "output_type": "stream",
     "text": [
      "[(1, 1), (2, 1), (3, 1), (1, 2), (2, 2), (3, 2), (1, 3), (2, 3), (3, 3)]\n"
     ]
    }
   ],
   "source": [
    "mylist=[1,2,3]\n",
    "result=[(b,a) for a in mylist for b in mylist]\n",
    "print(result)"
   ]
  },
  {
   "cell_type": "code",
   "execution_count": 53,
   "metadata": {},
   "outputs": [
    {
     "name": "stdout",
     "output_type": "stream",
     "text": [
      "insert the value of side a:2\n",
      "insert the value of side b:3\n",
      "insert the value of side c:4\n",
      "8.4375\n"
     ]
    }
   ],
   "source": [
    "class triangle:\n",
    "    def __init__(self):\n",
    "        self.a=0\n",
    "        self.b=0\n",
    "        self.c=0\n",
    "    def insert_values(self):\n",
    "        self.a=float(input(\"insert the value of side a:\"))\n",
    "        self.b=float(input(\"insert the value of side b:\"))\n",
    "        self.c=float(input(\"insert the value of side c:\"))\n",
    "class sub_area(triangle):\n",
    "    def __init__(self):\n",
    "        triangle.__init__(self)\n",
    "    def area(self):\n",
    "        s=(self.a+self.b+self.c)/2\n",
    "        return(s*(s-self.a)*(s-self.b)*(s-self.c))\n",
    "obj=sub_area()\n",
    "obj.insert_values()\n",
    "print(obj.area())\n",
    "    "
   ]
  },
  {
   "cell_type": "code",
   "execution_count": null,
   "metadata": {},
   "outputs": [],
   "source": []
  }
 ],
 "metadata": {
  "kernelspec": {
   "display_name": "Python 3",
   "language": "python",
   "name": "python3"
  },
  "language_info": {
   "codemirror_mode": {
    "name": "ipython",
    "version": 3
   },
   "file_extension": ".py",
   "mimetype": "text/x-python",
   "name": "python",
   "nbconvert_exporter": "python",
   "pygments_lexer": "ipython3",
   "version": "3.7.6"
  }
 },
 "nbformat": 4,
 "nbformat_minor": 4
}
